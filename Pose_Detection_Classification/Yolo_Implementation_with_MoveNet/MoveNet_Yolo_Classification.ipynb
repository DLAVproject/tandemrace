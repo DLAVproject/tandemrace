{
 "cells": [
  {
   "cell_type": "markdown",
   "id": "067f5800",
   "metadata": {},
   "source": [
    "# Notebook with  MoveNet and YOLO and Classification"
   ]
  },
  {
   "cell_type": "code",
   "execution_count": 1,
   "id": "7319ffc1",
   "metadata": {},
   "outputs": [
    {
     "name": "stderr",
     "output_type": "stream",
     "text": [
      "C:\\Users\\keven\\anaconda3\\envs\\dlav2\\lib\\site-packages\\tqdm\\auto.py:22: TqdmWarning: IProgress not found. Please update jupyter and ipywidgets. See https://ipywidgets.readthedocs.io/en/stable/user_install.html\n",
      "  from .autonotebook import tqdm as notebook_tqdm\n"
     ]
    }
   ],
   "source": [
    "import torch, cv2\n",
    "import numpy as np\n",
    "\n",
    "import tensorflow as tf\n",
    "import numpy as np\n",
    "from matplotlib import pyplot as plt\n",
    "import cv2\n",
    "import math"
   ]
  },
  {
   "cell_type": "code",
   "execution_count": 17,
   "id": "918655c3",
   "metadata": {},
   "outputs": [
    {
     "name": "stderr",
     "output_type": "stream",
     "text": [
      "Using cache found in C:\\Users\\keven/.cache\\torch\\hub\\ultralytics_yolov5_master\n",
      "YOLOv5  2022-4-22 torch 1.11.0 CUDA:0 (NVIDIA GeForce GTX 1050, 2048MiB)\n",
      "\n",
      "Fusing layers... \n",
      "YOLOv5s summary: 213 layers, 7225885 parameters, 0 gradients\n",
      "Adding AutoShape... \n"
     ]
    }
   ],
   "source": [
    "#load the model\n",
    "model = torch.hub.load('ultralytics/yolov5', 'yolov5s')  # or yolov5m, yolov5l, yolov5x, custom"
   ]
  },
  {
   "cell_type": "code",
   "execution_count": 18,
   "id": "55b5810a",
   "metadata": {},
   "outputs": [],
   "source": [
    "# model settings:\n",
    "model.classes = [0] # only detect humans -> class = 0\n",
    "model.max_det = 6"
   ]
  },
  {
   "cell_type": "code",
   "execution_count": 3,
   "id": "0c1a38f4",
   "metadata": {},
   "outputs": [],
   "source": [
    "def get_info_objs(results):\n",
    "    return results.pandas().xyxy[0].sort_values('confidence')"
   ]
  },
  {
   "cell_type": "code",
   "execution_count": 4,
   "id": "7629a4b9",
   "metadata": {},
   "outputs": [],
   "source": [
    "def display_image(img):\n",
    "    cv2.imshow('hello',img)\n",
    "    cv2.waitKey(0)\n",
    "    cv2.destroyAllWindows()"
   ]
  },
  {
   "cell_type": "code",
   "execution_count": 5,
   "id": "8e9096a5",
   "metadata": {},
   "outputs": [],
   "source": [
    "def get_cropped_images(pd,frame): #pd is a \n",
    "    nb_detected_objs = len(pd.index)\n",
    "    \n",
    "    index = np.zeros((4,nb_detected_objs),dtype=int)#4 rows for x0,y0,x1,y1 --> each column is the bb of 1 img\n",
    "    images = []\n",
    "    \n",
    "    counter = 0\n",
    "    for obj in pd.iloc:\n",
    "        x0, y0, x1, y1= obj.to_numpy()[0:4].astype(int)\n",
    "        images.append(frame[y0:y1, x0:x1])\n",
    "        index[:,counter] = np.array([x0,y0,x1,y1],dtype=int)\n",
    "        counter += 1\n",
    "        \n",
    "    return images, index "
   ]
  },
  {
   "cell_type": "code",
   "execution_count": 6,
   "id": "3bd13e0a",
   "metadata": {},
   "outputs": [],
   "source": [
    "interpreter = tf.lite.Interpreter(model_path='C:\\DLAV_testing\\MoveNetLightning\\lite-model_movenet_singlepose_lightning_3.tflite')\n",
    "interpreter.allocate_tensors()"
   ]
  },
  {
   "cell_type": "code",
   "execution_count": 7,
   "id": "a4bc3b03",
   "metadata": {},
   "outputs": [],
   "source": [
    "def draw_keypoints(frame, keypoints, confidence_threshold):\n",
    "    y, x, c = frame.shape\n",
    "    shaped = np.squeeze(np.multiply(keypoints, [y,x,1]))\n",
    "    \n",
    "    for kp in shaped:\n",
    "        ky, kx, kp_conf = kp\n",
    "        if kp_conf > confidence_threshold:\n",
    "            cv2.circle(frame, (int(kx), int(ky)), 4, (0,255,0), -1) "
   ]
  },
  {
   "cell_type": "code",
   "execution_count": 8,
   "id": "f229c8bf",
   "metadata": {},
   "outputs": [],
   "source": [
    "EDGES = {\n",
    "    (0, 1): 'm',\n",
    "    (0, 2): 'c',\n",
    "    (1, 3): 'm',\n",
    "    (2, 4): 'c',\n",
    "    (0, 5): 'm',\n",
    "    (0, 6): 'c',\n",
    "    (5, 7): 'm',\n",
    "    (7, 9): 'm',\n",
    "    (6, 8): 'c',\n",
    "    (8, 10): 'c',\n",
    "    (5, 6): 'y',\n",
    "    (5, 11): 'm',\n",
    "    (6, 12): 'c',\n",
    "    (11, 12): 'y',\n",
    "    (11, 13): 'm',\n",
    "    (13, 15): 'm',\n",
    "    (12, 14): 'c',\n",
    "    (14, 16): 'c'\n",
    "}"
   ]
  },
  {
   "cell_type": "code",
   "execution_count": 9,
   "id": "17fae50c",
   "metadata": {},
   "outputs": [],
   "source": [
    "def draw_connections(frame, keypoints, edges, confidence_threshold):\n",
    "    y, x, c = frame.shape\n",
    "    shaped = np.squeeze(np.multiply(keypoints, [y,x,1]))\n",
    "    \n",
    "    for edge, color in edges.items():\n",
    "        p1, p2 = edge\n",
    "        y1, x1, c1 = shaped[p1]\n",
    "        y2, x2, c2 = shaped[p2]\n",
    "        \n",
    "        if (c1 > confidence_threshold) & (c2 > confidence_threshold):      \n",
    "            cv2.line(frame, (int(x1), int(y1)), (int(x2), int(y2)), (0,0,255), 2)"
   ]
  },
  {
   "cell_type": "markdown",
   "id": "55cacfb5",
   "metadata": {},
   "source": [
    "# Pose Classification"
   ]
  },
  {
   "cell_type": "code",
   "execution_count": 10,
   "id": "1494c4cb",
   "metadata": {},
   "outputs": [],
   "source": [
    "def calculateAngle(landmark1, landmark2, landmark3):\n",
    "    '''\n",
    "    This function calculates angle between three different landmarks.\n",
    "    Args:\n",
    "        landmark1: The first landmark containing the x,y and z coordinates.\n",
    "        landmark2: The second landmark containing the x,y and z coordinates.\n",
    "        landmark3: The third landmark containing the x,y and z coordinates.\n",
    "    Returns:\n",
    "        angle: The calculated angle between the three landmarks.\n",
    "\n",
    "    '''\n",
    "\n",
    "    # Get the required landmarks coordinates.\n",
    "    x1, y1 = landmark1\n",
    "    x2, y2 = landmark2\n",
    "    x3, y3 = landmark3\n",
    "\n",
    "    # Calculate the angle between the three points\n",
    "    angle = math.degrees(math.atan2(y3 - y2, x3 - x2) - math.atan2(y1 - y2, x1 - x2))\n",
    "    angle = np.abs(angle)\n",
    "    # Check if the angle is less than zero.\n",
    "    if angle > 180.0:\n",
    "\n",
    "        angle = 360-angle\n",
    "    \n",
    "    # Return the calculated angle.\n",
    "    return angle"
   ]
  },
  {
   "cell_type": "markdown",
   "id": "b90ca182",
   "metadata": {},
   "source": [
    "**Outputs**\n",
    "\n",
    "A float32 tensor of shape [1, 1, 17, 3].\n",
    "\n",
    "● The first two channels of the last dimension represents the yx coordinates (normalized to\n",
    "image frame, i.e. range in [0.0, 1.0]) of the 17 keypoints (in the order of: \n",
    "\n",
    "**[0: nose, 1: left eye, 2: right eye, 3: left ear, 4:_right ear, 5: left shoulder, 6: right shoulder, 7: left elbow, 8: right elbow, 9: left wrist, 10:right wrist, 11: left hip, 12: right hip, 13: left knee, 14: right knee, 15: left ankle, 16: right ankle]).**\n",
    "\n",
    "● The third channel of the last dimension represents the prediction confidence scores of\n",
    "each keypoint, also in the range [0.0, 1.0]."
   ]
  },
  {
   "cell_type": "code",
   "execution_count": 25,
   "id": "512e4856",
   "metadata": {},
   "outputs": [],
   "source": [
    "def classifyPose(kp_array, output_image, display=False):\n",
    "    '''\n",
    "    This function classifies yoga poses depending upon the angles of various body joints.\n",
    "    Args:\n",
    "        kp_array: A list of detected landmarks of the person whose pose needs to be classified.\n",
    "        output_image: A image of the person with the detected pose landmarks drawn.\n",
    "        display: A boolean value that is if set to true the function displays the resultant image with the pose label \n",
    "        written on it and returns nothing.\n",
    "    Returns:\n",
    "        output_image: The image with the detected pose landmarks drawn and pose label written.\n",
    "        label: The classified pose label of the person in the output_image.\n",
    "\n",
    "    '''\n",
    "    \n",
    "    # Initialize the label of the pose. It is not known at this stage.\n",
    "    label = 'Unknown Pose'\n",
    "\n",
    "    # Specify the color (Red) with which the label will be written on the image.\n",
    "    color = (0, 0, 255)\n",
    "    \n",
    "    # Calculate the required angles.\n",
    "    #----------------------------------------------------------------------------------------------------------------\n",
    "    \n",
    "    # Get the angle between the left shoulder, elbow and wrist points. \n",
    "    left_elbow_angle = calculateAngle(kp_array[5],\n",
    "                                      kp_array[7],\n",
    "                                      kp_array[9])\n",
    "    \n",
    "    # Get the angle between the right shoulder, elbow and wrist points.\n",
    "    right_elbow_angle = calculateAngle(kp_array[6],\n",
    "                                       kp_array[8],\n",
    "                                       kp_array[10])\n",
    "    \n",
    "    # Get the angle between the left elbow, shoulder and hip points.\n",
    "    left_shoulder_angle = calculateAngle(kp_array[7],\n",
    "                                         kp_array[5],\n",
    "                                         kp_array[11])\n",
    "    # Get the angle between the right hip, shoulder and elbow points.\n",
    "    right_shoulder_angle = calculateAngle(kp_array[12],\n",
    "                                          kp_array[6],\n",
    "                                          kp_array[8])\n",
    "    \n",
    "    #print('left_elbow_angle: ', left_elbow_angle ,'\\n right_elbow_angle: ', right_elbow_angle)\n",
    "    #print('left_shoulder_angle: ', left_shoulder_angle ,'\\n right_shoulder_angle: ', right_shoulder_angle)\n",
    "    \n",
    "    #----------------------------------------------------------------------------------------------------------------\n",
    "    \n",
    "    # Check if it is the warrior II pose or the T pose.\n",
    "    # As for both of them, both arms should be straight and shoulders should be at the specific angle.\n",
    "    #----------------------------------------------------------------------------------------------------------------\n",
    "    \n",
    "    # Check if the both arms are straight.\n",
    "    if left_elbow_angle > 125 and left_elbow_angle < 220 and right_elbow_angle > 125 and right_elbow_angle < 220:\n",
    "        #label = 'T Pose'\n",
    "        # Check if shoulders are at the required angle.\n",
    "        if left_shoulder_angle > 70 and left_shoulder_angle < 110 and right_shoulder_angle > 70 and right_shoulder_angle < 110:\n",
    "            label = 'T Pose'\n",
    "                        \n",
    "    if right_elbow_angle > 50 and right_elbow_angle < 130 and right_shoulder_angle > 70 and right_shoulder_angle < 110:\n",
    "        label = \"power to the people\"\n",
    "    # Check if the pose is classified successfully\n",
    "    if label != 'Unknown Pose':\n",
    "        \n",
    "        # Update the color (to green) with which the label will be written on the image.\n",
    "        color = (0, 255, 0)  \n",
    "    \n",
    "    # Write the label on the output image. \n",
    "    cv2.putText(output_image, label, (10, 30),cv2.FONT_HERSHEY_PLAIN, 1, color, 2)\n",
    "    \n",
    "    # Check if the resultant image is specified to be displayed.\n",
    "    if display:\n",
    "    \n",
    "        # Display the resultant image.\n",
    "        plt.figure(figsize=[10,10])\n",
    "        plt.imshow(output_image[:,:,::-1]);plt.title(\"Output Image\");plt.axis('off');\n",
    "        \n",
    "    else:\n",
    "        \n",
    "        # Return the output image and the classified label.\n",
    "        return output_image, label"
   ]
  },
  {
   "cell_type": "code",
   "execution_count": 26,
   "id": "b5b99e26",
   "metadata": {},
   "outputs": [],
   "source": [
    "def write_frame_keypoints(imglist,indexes,frame): #write keypoints and classify on each cropped image and fuse it with the main frame\n",
    "    for i,objs in enumerate(imglist):    \n",
    "        img = objs\n",
    "        img1 = img.copy()\n",
    "\n",
    "        img1 = tf.image.resize_with_pad(np.expand_dims(img1, axis=0), 192,192)\n",
    "        input_image = tf.cast(img1, dtype=tf.float32)\n",
    "\n",
    "        # Setup input and output \n",
    "        input_details = interpreter.get_input_details()\n",
    "        output_details = interpreter.get_output_details()\n",
    "\n",
    "        # Make predictions \n",
    "        interpreter.set_tensor(input_details[0]['index'], np.array(input_image))\n",
    "        interpreter.invoke()\n",
    "        keypoints_with_scores = interpreter.get_tensor(output_details[0]['index'])\n",
    "\n",
    "        # Rendering \n",
    "        draw_connections(img, keypoints_with_scores, EDGES, 0.1)\n",
    "        draw_keypoints(img, keypoints_with_scores, 0.1)\n",
    "        \n",
    "        landmarks = keypoints_with_scores.reshape((17,3))[:,0:2]#array of landmarks (x,y)\n",
    "        \n",
    "        #Classification\n",
    "        if np.size(landmarks) != 0:\n",
    "            img, _ = classifyPose(landmarks, img, display=False)\n",
    "        \n",
    "\n",
    "        frame[indexes[1,i]:indexes[3,i], indexes[0,i]:indexes[2,i]] = img\n",
    "        \n",
    "    return frame"
   ]
  },
  {
   "cell_type": "code",
   "execution_count": 27,
   "id": "a8bb84d5",
   "metadata": {},
   "outputs": [],
   "source": [
    "cap = cv2.VideoCapture(0)\n",
    "#RUN ALL FUNCTIONS IN THIS NOTEBOOK BEFOREHAND!!!!\n",
    "\n",
    "#cap = cv2.VideoCapture(\"C:\\DLAV_testing\\images to test\\Business-people-dancing1.mp4\")\n",
    "while cap.isOpened():\n",
    "    ret, frame = cap.read()\n",
    "    if not ret:\n",
    "        continue\n",
    "        \n",
    "    # Reshape image\n",
    "    img = frame.copy()\n",
    "    \n",
    "    results = model(img)#from yolo\n",
    "    \n",
    "    pd = get_info_objs(results)\n",
    "    \n",
    "    imglist,indexes = get_cropped_images(pd,frame)\n",
    "    \n",
    "    img = write_frame_keypoints(imglist,indexes,frame)#movenet\n",
    "    \n",
    "    cv2.imshow('Yolo + Movenet + Classification', img)\n",
    "    \n",
    "    if cv2.waitKey(10) & 0xFF==ord('q'):\n",
    "        break\n",
    "        \n",
    "cap.release()\n",
    "cv2.destroyAllWindows()"
   ]
  },
  {
   "cell_type": "code",
   "execution_count": 20,
   "id": "4a20bd04",
   "metadata": {},
   "outputs": [],
   "source": [
    "img = cv2.imread(r\"C:\\DLAV_testing\\images to test\\test_angle.jpg\")\n",
    "\n",
    "results = model(img)#from yolo\n",
    "    \n",
    "pd = get_info_objs(results)\n",
    "    \n",
    "imglist,indexes = get_cropped_images(pd,img)\n",
    "    \n",
    "img = write_frame_keypoints(imglist,indexes,img)#movenet\n",
    "    \n",
    "cv2.imshow('Yolo + Movenet + Classification', img)\n",
    "    \n",
    "cv2.waitKey(0)\n",
    "cv2.destroyAllWindows()\n",
    "        \n",
    "\n"
   ]
  },
  {
   "cell_type": "code",
   "execution_count": null,
   "id": "79aa623d",
   "metadata": {},
   "outputs": [],
   "source": []
  }
 ],
 "metadata": {
  "kernelspec": {
   "display_name": "Python 3 (ipykernel)",
   "language": "python",
   "name": "python3"
  },
  "language_info": {
   "codemirror_mode": {
    "name": "ipython",
    "version": 3
   },
   "file_extension": ".py",
   "mimetype": "text/x-python",
   "name": "python",
   "nbconvert_exporter": "python",
   "pygments_lexer": "ipython3",
   "version": "3.8.13"
  }
 },
 "nbformat": 4,
 "nbformat_minor": 5
}
