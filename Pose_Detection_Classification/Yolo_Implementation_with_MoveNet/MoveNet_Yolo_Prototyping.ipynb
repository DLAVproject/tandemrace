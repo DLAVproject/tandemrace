{
 "cells": [
  {
   "cell_type": "code",
   "execution_count": 1,
   "id": "7f39079c-b8b3-4838-88a3-53a5e0695c0c",
   "metadata": {},
   "outputs": [
    {
     "name": "stderr",
     "output_type": "stream",
     "text": [
      "C:\\Users\\keven\\anaconda3\\envs\\dlav2\\lib\\site-packages\\tqdm\\auto.py:22: TqdmWarning: IProgress not found. Please update jupyter and ipywidgets. See https://ipywidgets.readthedocs.io/en/stable/user_install.html\n",
      "  from .autonotebook import tqdm as notebook_tqdm\n"
     ]
    }
   ],
   "source": [
    "import torch, cv2\n",
    "import numpy as np"
   ]
  },
  {
   "cell_type": "code",
   "execution_count": 2,
   "id": "8ec942ea-7272-4968-8ef3-fc67d4c58b1d",
   "metadata": {},
   "outputs": [
    {
     "name": "stderr",
     "output_type": "stream",
     "text": [
      "Using cache found in C:\\Users\\keven/.cache\\torch\\hub\\ultralytics_yolov5_master\n",
      "YOLOv5  2022-4-22 torch 1.11.0 CUDA:0 (NVIDIA GeForce GTX 1050, 2048MiB)\n",
      "\n",
      "Fusing layers... \n",
      "YOLOv5s summary: 213 layers, 7225885 parameters, 0 gradients\n",
      "Adding AutoShape... \n"
     ]
    }
   ],
   "source": [
    "# Model\n",
    "model = torch.hub.load('ultralytics/yolov5', 'yolov5s')  # or yolov5m, yolov5l, yolov5x, custom"
   ]
  },
  {
   "cell_type": "code",
   "execution_count": 3,
   "id": "8d1944e7-cc6b-4acb-8f0a-eae164c0c8ae",
   "metadata": {},
   "outputs": [],
   "source": [
    "# model settings:\n",
    "model.classes = [0] # only detect humans -> class = 0"
   ]
  },
  {
   "cell_type": "code",
   "execution_count": 4,
   "id": "6b6c0145-719b-4b39-9179-73b4b0cb41a3",
   "metadata": {},
   "outputs": [],
   "source": [
    "frame = cv2.imread(r\"C:\\DLAV_testing\\images to test\\apink.jpg\")\n",
    "img = frame.copy()\n",
    "\n",
    "results = model(img)\n",
    "results.show()"
   ]
  },
  {
   "cell_type": "code",
   "execution_count": 5,
   "id": "b71bc754-ba8b-44a8-bcb1-3f5417877737",
   "metadata": {},
   "outputs": [
    {
     "name": "stdout",
     "output_type": "stream",
     "text": [
      "4\n"
     ]
    }
   ],
   "source": [
    "def get_info_objs(results):\n",
    "    return results.pandas().xyxy[0].sort_values('confidence')\n",
    "\n",
    "pd = get_info_objs(results)\n",
    "\n",
    "pd.iloc[0].to_numpy()#access first row\n",
    "print(len(pd.index))"
   ]
  },
  {
   "cell_type": "code",
   "execution_count": 6,
   "id": "d75b7ca0-1d63-4329-8f70-cc92e9a8f197",
   "metadata": {},
   "outputs": [],
   "source": [
    "def display_image(img):\n",
    "    cv2.imshow('hello',img)\n",
    "    cv2.waitKey(0)\n",
    "    cv2.destroyAllWindows()"
   ]
  },
  {
   "cell_type": "code",
   "execution_count": 7,
   "id": "2050d1af-c14a-4ded-a325-32d4561e8d93",
   "metadata": {},
   "outputs": [],
   "source": [
    "def get_cropped_images(pd,frame): #pd is a \n",
    "    nb_detected_objs = len(pd.index)\n",
    "    \n",
    "    index = np.zeros((4,nb_detected_objs),dtype=int)#4 rows for x0,y0,x1,y1 --> each column is the bb of 1 img\n",
    "    images = []\n",
    "    \n",
    "    counter = 0\n",
    "    for obj in pd.iloc:\n",
    "        x0, y0, x1, y1= obj.to_numpy()[0:4].astype(int)\n",
    "        images.append(frame[y0:y1, x0:x1])\n",
    "        index[:,counter] = np.array([x0,y0,x1,y1],dtype=int)\n",
    "        counter += 1\n",
    "        \n",
    "    return images, index "
   ]
  },
  {
   "cell_type": "markdown",
   "id": "a611728c",
   "metadata": {},
   "source": [
    "### Following Code doesn't need to be run"
   ]
  },
  {
   "cell_type": "code",
   "execution_count": 10,
   "id": "56ba2877-c689-4051-b760-235e9694a0ea",
   "metadata": {},
   "outputs": [
    {
     "data": {
      "text/plain": [
       "array([[345, 272, 162,   5],\n",
       "       [120,  93,  73,  64],\n",
       "       [427, 378, 306, 131],\n",
       "       [303, 336, 335, 335]])"
      ]
     },
     "execution_count": 10,
     "metadata": {},
     "output_type": "execute_result"
    }
   ],
   "source": [
    "#testing whether get_cropped_images works\n",
    "imglist,indexes = get_cropped_images(pd,frame)\n",
    "display_image(imglist[3])#just to test whether we can see a person\n",
    "indexes"
   ]
  },
  {
   "cell_type": "code",
   "execution_count": 8,
   "id": "7e1a5df5-bf46-4903-9cff-fea7c5f81066",
   "metadata": {},
   "outputs": [],
   "source": [
    "#this code is just testing the different frames with and w\\o bounding box\n",
    "x0, y0, x1, y1, _, _ = torch.Tensor.cpu(results.xyxy[0][3]).numpy().astype(int)\n",
    "cropped_image = results.imgs[0][y0:y1, x0:x1] #this returns the result with bounding box --> not wanted\n",
    "cropped_image_wo_bb = frame[y0:y1, x0:x1]#this is the result we want\n",
    "display_image(cropped_image)\n",
    "display_image(cropped_image_wo_bb)"
   ]
  },
  {
   "cell_type": "code",
   "execution_count": null,
   "id": "46aa0c62-e761-4f94-95ff-c8d34d220f39",
   "metadata": {},
   "outputs": [],
   "source": [
    "#not needed anymore --< inbuilt cropping function\n",
    "img1 = results.crop(save=False)[0]['im']\n",
    "img1\n",
    "display_image(img1)"
   ]
  },
  {
   "cell_type": "markdown",
   "id": "bdebe663-b557-46bc-a87b-4f773551a2e3",
   "metadata": {},
   "source": [
    "## 1. Webcam for yolo"
   ]
  },
  {
   "cell_type": "code",
   "execution_count": 13,
   "id": "64f4ced9-3f55-49ef-80d0-c33b27609339",
   "metadata": {},
   "outputs": [
    {
     "name": "stdout",
     "output_type": "stream",
     "text": [
      "         xmin        ymin        xmax        ymax  confidence  class    name\n",
      "0  339.457336  293.695801  569.684875  479.712463    0.703039      0  person\n"
     ]
    }
   ],
   "source": [
    "cap = cv2.VideoCapture(0)\n",
    "while cap.isOpened():\n",
    "    ret, frame = cap.read()\n",
    "    \n",
    "    # Reshape image\n",
    "    img = frame.copy()\n",
    "    \n",
    "    results = model(img)\n",
    "    \n",
    "    cv2.imshow('MoveNet Lightning', results.render()[0])\n",
    "    \n",
    "    if cv2.waitKey(10) & 0xFF==ord('q'):\n",
    "        img_save = frame\n",
    "        print(results.pandas().xyxy[0])\n",
    "        break\n",
    "        \n",
    "cap.release()\n",
    "cv2.destroyAllWindows()"
   ]
  },
  {
   "cell_type": "markdown",
   "id": "b35749a1-12d7-403d-ae97-6c6c33fd1bb9",
   "metadata": {},
   "source": [
    "## 2. MoveNet"
   ]
  },
  {
   "cell_type": "code",
   "execution_count": 14,
   "id": "1a4a171c-156d-459a-beb6-55aeaeb1461a",
   "metadata": {},
   "outputs": [],
   "source": [
    "import tensorflow as tf\n",
    "import numpy as np\n",
    "from matplotlib import pyplot as plt\n",
    "import cv2"
   ]
  },
  {
   "cell_type": "code",
   "execution_count": 19,
   "id": "f949e947-487a-4278-8837-e677e591dc20",
   "metadata": {},
   "outputs": [],
   "source": [
    "interpreter = tf.lite.Interpreter(model_path='C:\\DLAV_testing\\MoveNetLightning\\lite-model_movenet_singlepose_lightning_3.tflite')\n",
    "interpreter.allocate_tensors()"
   ]
  },
  {
   "cell_type": "code",
   "execution_count": 26,
   "id": "b8faabe8-27db-403c-b5aa-d42b93053d73",
   "metadata": {},
   "outputs": [],
   "source": [
    "def draw_keypoints(frame, keypoints, confidence_threshold):\n",
    "    y, x, c = frame.shape\n",
    "    shaped = np.squeeze(np.multiply(keypoints, [y,x,1]))\n",
    "    \n",
    "    for kp in shaped:\n",
    "        ky, kx, kp_conf = kp\n",
    "        if kp_conf > confidence_threshold:\n",
    "            cv2.circle(frame, (int(kx), int(ky)), 4, (0,255,0), -1) "
   ]
  },
  {
   "cell_type": "code",
   "execution_count": 27,
   "id": "cff48b96-318e-4971-b041-2164fcdcc4e3",
   "metadata": {},
   "outputs": [],
   "source": [
    "EDGES = {\n",
    "    (0, 1): 'm',\n",
    "    (0, 2): 'c',\n",
    "    (1, 3): 'm',\n",
    "    (2, 4): 'c',\n",
    "    (0, 5): 'm',\n",
    "    (0, 6): 'c',\n",
    "    (5, 7): 'm',\n",
    "    (7, 9): 'm',\n",
    "    (6, 8): 'c',\n",
    "    (8, 10): 'c',\n",
    "    (5, 6): 'y',\n",
    "    (5, 11): 'm',\n",
    "    (6, 12): 'c',\n",
    "    (11, 12): 'y',\n",
    "    (11, 13): 'm',\n",
    "    (13, 15): 'm',\n",
    "    (12, 14): 'c',\n",
    "    (14, 16): 'c'\n",
    "}"
   ]
  },
  {
   "cell_type": "code",
   "execution_count": 28,
   "id": "7e4bdb79-a33b-4912-a143-3161c0ff56a5",
   "metadata": {},
   "outputs": [],
   "source": [
    "def draw_connections(frame, keypoints, edges, confidence_threshold):\n",
    "    y, x, c = frame.shape\n",
    "    shaped = np.squeeze(np.multiply(keypoints, [y,x,1]))\n",
    "    \n",
    "    for edge, color in edges.items():\n",
    "        p1, p2 = edge\n",
    "        y1, x1, c1 = shaped[p1]\n",
    "        y2, x2, c2 = shaped[p2]\n",
    "        \n",
    "        if (c1 > confidence_threshold) & (c2 > confidence_threshold):      \n",
    "            cv2.line(frame, (int(x1), int(y1)), (int(x2), int(y2)), (0,0,255), 2)"
   ]
  },
  {
   "cell_type": "code",
   "execution_count": 29,
   "id": "d1299afd-ce42-43f2-a94e-13326d37fc5d",
   "metadata": {},
   "outputs": [],
   "source": [
    "#img = cv2.imread(r'C:/DLAV_testing/images to test/handsup_crowded.jpg')\n",
    "\n",
    "#frame ist die grundlage\n",
    "for i,objs in enumerate(imglist):    \n",
    "    img = objs\n",
    "    img1 = img.copy()\n",
    "\n",
    "    img1 = tf.image.resize_with_pad(np.expand_dims(img1, axis=0), 192,192)\n",
    "    input_image = tf.cast(img1, dtype=tf.float32)\n",
    "\n",
    "    # Setup input and output \n",
    "    input_details = interpreter.get_input_details()\n",
    "    output_details = interpreter.get_output_details()\n",
    "\n",
    "    # Make predictions \n",
    "    interpreter.set_tensor(input_details[0]['index'], np.array(input_image))\n",
    "    interpreter.invoke()\n",
    "    keypoints_with_scores = interpreter.get_tensor(output_details[0]['index'])\n",
    "\n",
    "    # Rendering \n",
    "    draw_connections(img, keypoints_with_scores, EDGES, 0.1)\n",
    "    draw_keypoints(img, keypoints_with_scores, 0.1)\n",
    "    \n",
    "    frame[indexes[1,i]:indexes[3,i], indexes[0,i]:indexes[2,i]] = img\n",
    "\n",
    "    #cv2.imshow('MoveNet Lightning', img)\n",
    "    #cv2.waitKey(0)\n",
    "    #cv2.destroyAllWindows()\n",
    "display_image(frame)"
   ]
  },
  {
   "cell_type": "code",
   "execution_count": 24,
   "id": "b43dd78c-ea02-4cdf-a593-6e233286e373",
   "metadata": {},
   "outputs": [],
   "source": [
    "def write_frame_keypoints(imglist,indexes,frame):\n",
    "    for i,objs in enumerate(imglist):    \n",
    "        img = objs\n",
    "        img1 = img.copy()\n",
    "\n",
    "        img1 = tf.image.resize_with_pad(np.expand_dims(img1, axis=0), 192,192)\n",
    "        input_image = tf.cast(img1, dtype=tf.float32)\n",
    "\n",
    "        # Setup input and output \n",
    "        input_details = interpreter.get_input_details()\n",
    "        output_details = interpreter.get_output_details()\n",
    "\n",
    "        # Make predictions \n",
    "        interpreter.set_tensor(input_details[0]['index'], np.array(input_image))\n",
    "        interpreter.invoke()\n",
    "        keypoints_with_scores = interpreter.get_tensor(output_details[0]['index'])\n",
    "\n",
    "        # Rendering \n",
    "        draw_connections(img, keypoints_with_scores, EDGES, 0.1)\n",
    "        draw_keypoints(img, keypoints_with_scores, 0.1)\n",
    "\n",
    "        frame[indexes[1,i]:indexes[3,i], indexes[0,i]:indexes[2,i]] = img\n",
    "\n",
    "        #cv2.imshow('MoveNet Lightning', img)\n",
    "        #cv2.waitKey(0)\n",
    "        #cv2.destroyAllWindows()\n",
    "    return frame"
   ]
  },
  {
   "cell_type": "code",
   "execution_count": 33,
   "id": "edf8a3d4-4638-484c-ab68-0e23cda878f5",
   "metadata": {},
   "outputs": [],
   "source": [
    "fr = write_frame_keypoints(imglist,indexes,frame=frame)"
   ]
  },
  {
   "cell_type": "code",
   "execution_count": 34,
   "id": "394ffd07-ad5b-4db3-af36-2cb0d9602cdb",
   "metadata": {},
   "outputs": [],
   "source": [
    "display_image(fr)"
   ]
  },
  {
   "cell_type": "markdown",
   "id": "f81e93d2-991b-49a4-b0d5-f74312d43060",
   "metadata": {},
   "source": [
    "## Webcam using Yolo and movenet"
   ]
  },
  {
   "cell_type": "code",
   "execution_count": null,
   "id": "07ba91e5-d4c1-4b76-96bd-dc8788a829a7",
   "metadata": {},
   "outputs": [],
   "source": [
    "import torch, cv2\n",
    "import numpy as np\n",
    "\n",
    "import tensorflow as tf\n",
    "import numpy as np\n",
    "from matplotlib import pyplot as plt\n",
    "import cv2"
   ]
  },
  {
   "cell_type": "code",
   "execution_count": null,
   "id": "44a6b4b7-9ae6-4f35-80c0-be58d63dd549",
   "metadata": {},
   "outputs": [],
   "source": [
    "model = torch.hub.load('ultralytics/yolov5', 'yolov5s')  # or yolov5m, yolov5l, yolov5x, custom\n",
    "# model settings:\n",
    "model.classes = [0] # only detect humans -> class = 0"
   ]
  },
  {
   "cell_type": "code",
   "execution_count": 27,
   "id": "7cc5f28a-7235-4470-b35d-0d7e64d2f5c1",
   "metadata": {},
   "outputs": [],
   "source": [
    "#cap = cv2.VideoCapture(0)\n",
    "#RUN ALL FUNCTIONS IN THIS NOTEBOOK BEFOREHAND!!!!\n",
    "\n",
    "cap = cv2.VideoCapture(\"C:\\DLAV_testing\\images to test\\Business-people-dancing1.mp4\")\n",
    "while cap.isOpened():\n",
    "    ret, frame = cap.read()\n",
    "    \n",
    "    # Reshape image\n",
    "    img = frame.copy()\n",
    "    results = model(img)\n",
    "    pd = get_info_objs(results)\n",
    "    imglist,indexes = get_cropped_images(pd,frame)\n",
    "    img = write_frame_keypoints(imglist,indexes,frame)\n",
    "    \n",
    "    cv2.imshow('combination', img)\n",
    "    \n",
    "    cv2.imshow('MoveNet Lightning', results.render()[0])\n",
    "    \n",
    "    #cv2.imshow('cropped',results.crop(save=False)[0]['im']) \n",
    "    \n",
    "    if cv2.waitKey(10) & 0xFF==ord('q'):\n",
    "        break\n",
    "        \n",
    "cap.release()\n",
    "cv2.destroyAllWindows()"
   ]
  },
  {
   "cell_type": "code",
   "execution_count": 25,
   "id": "5c30a029-be3e-4ffe-873d-4a4364e42380",
   "metadata": {},
   "outputs": [],
   "source": []
  },
  {
   "cell_type": "code",
   "execution_count": null,
   "id": "3840c348-4403-4466-8bf6-4b907fca679e",
   "metadata": {},
   "outputs": [],
   "source": []
  }
 ],
 "metadata": {
  "kernelspec": {
   "display_name": "Python 3 (ipykernel)",
   "language": "python",
   "name": "python3"
  },
  "language_info": {
   "codemirror_mode": {
    "name": "ipython",
    "version": 3
   },
   "file_extension": ".py",
   "mimetype": "text/x-python",
   "name": "python",
   "nbconvert_exporter": "python",
   "pygments_lexer": "ipython3",
   "version": "3.8.13"
  }
 },
 "nbformat": 4,
 "nbformat_minor": 5
}
