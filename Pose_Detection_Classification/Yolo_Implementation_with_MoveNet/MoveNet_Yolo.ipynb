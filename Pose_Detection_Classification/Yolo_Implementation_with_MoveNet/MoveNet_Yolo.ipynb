{
 "cells": [
  {
   "cell_type": "markdown",
   "id": "f85e8fc6",
   "metadata": {},
   "source": [
    "# Notebook with  MoveNet and YOLO"
   ]
  },
  {
   "cell_type": "code",
   "execution_count": 2,
   "id": "1283d7d0",
   "metadata": {},
   "outputs": [],
   "source": [
    "import torch, cv2\n",
    "import numpy as np\n",
    "\n",
    "import tensorflow as tf\n",
    "import numpy as np\n",
    "from matplotlib import pyplot as plt\n",
    "import cv2"
   ]
  },
  {
   "cell_type": "code",
   "execution_count": 3,
   "id": "42a1cadb",
   "metadata": {},
   "outputs": [
    {
     "name": "stderr",
     "output_type": "stream",
     "text": [
      "Using cache found in C:\\Users\\keven/.cache\\torch\\hub\\ultralytics_yolov5_master\n",
      "YOLOv5  2022-4-22 torch 1.11.0 CUDA:0 (NVIDIA GeForce GTX 1050, 2048MiB)\n",
      "\n",
      "Fusing layers... \n",
      "YOLOv5s summary: 213 layers, 7225885 parameters, 0 gradients\n",
      "Adding AutoShape... \n"
     ]
    }
   ],
   "source": [
    "model = torch.hub.load('ultralytics/yolov5', 'yolov5s')  # or yolov5m, yolov5l, yolov5x, custom\n",
    "# model settings:\n",
    "model.classes = [0] # only detect humans -> class = 0"
   ]
  },
  {
   "cell_type": "code",
   "execution_count": 6,
   "id": "e9331a07",
   "metadata": {},
   "outputs": [],
   "source": [
    "def get_info_objs(results):\n",
    "    return results.pandas().xyxy[0].sort_values('confidence')"
   ]
  },
  {
   "cell_type": "code",
   "execution_count": 7,
   "id": "6b89488a",
   "metadata": {},
   "outputs": [],
   "source": [
    "def display_image(img):\n",
    "    cv2.imshow('hello',img)\n",
    "    cv2.waitKey(0)\n",
    "    cv2.destroyAllWindows()"
   ]
  },
  {
   "cell_type": "code",
   "execution_count": 8,
   "id": "2531c167",
   "metadata": {},
   "outputs": [],
   "source": [
    "def get_cropped_images(pd,frame): #pd is a \n",
    "    nb_detected_objs = len(pd.index)\n",
    "    \n",
    "    index = np.zeros((4,nb_detected_objs),dtype=int)#4 rows for x0,y0,x1,y1 --> each column is the bb of 1 img\n",
    "    images = []\n",
    "    \n",
    "    counter = 0\n",
    "    for obj in pd.iloc:\n",
    "        x0, y0, x1, y1= obj.to_numpy()[0:4].astype(int)\n",
    "        images.append(frame[y0:y1, x0:x1])\n",
    "        index[:,counter] = np.array([x0,y0,x1,y1],dtype=int)\n",
    "        counter += 1\n",
    "        \n",
    "    return images, index "
   ]
  },
  {
   "cell_type": "code",
   "execution_count": 9,
   "id": "a1e2ea73",
   "metadata": {},
   "outputs": [],
   "source": [
    "interpreter = tf.lite.Interpreter(model_path='C:\\DLAV_testing\\MoveNetLightning\\lite-model_movenet_singlepose_lightning_3.tflite')\n",
    "interpreter.allocate_tensors()"
   ]
  },
  {
   "cell_type": "code",
   "execution_count": 10,
   "id": "a33861be",
   "metadata": {},
   "outputs": [],
   "source": [
    "def draw_keypoints(frame, keypoints, confidence_threshold):\n",
    "    y, x, c = frame.shape\n",
    "    shaped = np.squeeze(np.multiply(keypoints, [y,x,1]))\n",
    "    \n",
    "    for kp in shaped:\n",
    "        ky, kx, kp_conf = kp\n",
    "        if kp_conf > confidence_threshold:\n",
    "            cv2.circle(frame, (int(kx), int(ky)), 4, (0,255,0), -1) "
   ]
  },
  {
   "cell_type": "code",
   "execution_count": 11,
   "id": "654ed33c",
   "metadata": {},
   "outputs": [],
   "source": [
    "EDGES = {\n",
    "    (0, 1): 'm',\n",
    "    (0, 2): 'c',\n",
    "    (1, 3): 'm',\n",
    "    (2, 4): 'c',\n",
    "    (0, 5): 'm',\n",
    "    (0, 6): 'c',\n",
    "    (5, 7): 'm',\n",
    "    (7, 9): 'm',\n",
    "    (6, 8): 'c',\n",
    "    (8, 10): 'c',\n",
    "    (5, 6): 'y',\n",
    "    (5, 11): 'm',\n",
    "    (6, 12): 'c',\n",
    "    (11, 12): 'y',\n",
    "    (11, 13): 'm',\n",
    "    (13, 15): 'm',\n",
    "    (12, 14): 'c',\n",
    "    (14, 16): 'c'\n",
    "}"
   ]
  },
  {
   "cell_type": "code",
   "execution_count": 12,
   "id": "4933db35",
   "metadata": {},
   "outputs": [],
   "source": [
    "def draw_connections(frame, keypoints, edges, confidence_threshold):\n",
    "    y, x, c = frame.shape\n",
    "    shaped = np.squeeze(np.multiply(keypoints, [y,x,1]))\n",
    "    \n",
    "    for edge, color in edges.items():\n",
    "        p1, p2 = edge\n",
    "        y1, x1, c1 = shaped[p1]\n",
    "        y2, x2, c2 = shaped[p2]\n",
    "        \n",
    "        if (c1 > confidence_threshold) & (c2 > confidence_threshold):      \n",
    "            cv2.line(frame, (int(x1), int(y1)), (int(x2), int(y2)), (0,0,255), 2)"
   ]
  },
  {
   "cell_type": "code",
   "execution_count": 13,
   "id": "0a076e0c",
   "metadata": {},
   "outputs": [],
   "source": [
    "def write_frame_keypoints(imglist,indexes,frame):\n",
    "    for i,objs in enumerate(imglist):    \n",
    "        img = objs\n",
    "        img1 = img.copy()\n",
    "\n",
    "        img1 = tf.image.resize_with_pad(np.expand_dims(img1, axis=0), 192,192)\n",
    "        input_image = tf.cast(img1, dtype=tf.float32)\n",
    "\n",
    "        # Setup input and output \n",
    "        input_details = interpreter.get_input_details()\n",
    "        output_details = interpreter.get_output_details()\n",
    "\n",
    "        # Make predictions \n",
    "        interpreter.set_tensor(input_details[0]['index'], np.array(input_image))\n",
    "        interpreter.invoke()\n",
    "        keypoints_with_scores = interpreter.get_tensor(output_details[0]['index'])\n",
    "\n",
    "        # Rendering \n",
    "        draw_connections(img, keypoints_with_scores, EDGES, 0.1)\n",
    "        draw_keypoints(img, keypoints_with_scores, 0.1)\n",
    "\n",
    "        frame[indexes[1,i]:indexes[3,i], indexes[0,i]:indexes[2,i]] = img\n",
    "    return frame"
   ]
  },
  {
   "cell_type": "code",
   "execution_count": 15,
   "id": "c72161de",
   "metadata": {},
   "outputs": [],
   "source": [
    "cap = cv2.VideoCapture(0)\n",
    "#RUN ALL FUNCTIONS IN THIS NOTEBOOK BEFOREHAND!!!!\n",
    "\n",
    "#cap = cv2.VideoCapture(\"C:\\DLAV_testing\\images to test\\Business-people-dancing1.mp4\")\n",
    "while cap.isOpened():\n",
    "    ret, frame = cap.read()\n",
    "    \n",
    "    # Reshape image\n",
    "    img = frame.copy()\n",
    "    results = model(img)\n",
    "    pd = get_info_objs(results)\n",
    "    imglist,indexes = get_cropped_images(pd,frame)\n",
    "    img = write_frame_keypoints(imglist,indexes,frame)\n",
    "    \n",
    "    cv2.imshow('combination', img)\n",
    "    \n",
    "    if cv2.waitKey(10) & 0xFF==ord('q'):\n",
    "        break\n",
    "        \n",
    "cap.release()\n",
    "cv2.destroyAllWindows()"
   ]
  },
  {
   "cell_type": "code",
   "execution_count": null,
   "id": "ee219c95",
   "metadata": {},
   "outputs": [],
   "source": []
  }
 ],
 "metadata": {
  "kernelspec": {
   "display_name": "Python 3 (ipykernel)",
   "language": "python",
   "name": "python3"
  },
  "language_info": {
   "codemirror_mode": {
    "name": "ipython",
    "version": 3
   },
   "file_extension": ".py",
   "mimetype": "text/x-python",
   "name": "python",
   "nbconvert_exporter": "python",
   "pygments_lexer": "ipython3",
   "version": "3.8.13"
  }
 },
 "nbformat": 4,
 "nbformat_minor": 5
}
