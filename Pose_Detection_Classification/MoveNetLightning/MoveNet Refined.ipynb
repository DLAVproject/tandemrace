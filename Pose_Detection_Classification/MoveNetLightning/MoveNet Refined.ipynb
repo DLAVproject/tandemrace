{
 "cells": [
  {
   "cell_type": "markdown",
   "metadata": {},
   "source": [
    "# 0. Install and Import Dependencies"
   ]
  },
  {
   "cell_type": "code",
   "execution_count": 1,
   "metadata": {},
   "outputs": [
    {
     "name": "stdout",
     "output_type": "stream",
     "text": [
      "Requirement already satisfied: tensorflow==2.5 in c:\\users\\keven\\anaconda3\\envs\\dlav\\lib\\site-packages (2.5.0)\n",
      "Requirement already satisfied: opencv-python in c:\\users\\keven\\anaconda3\\envs\\dlav\\lib\\site-packages (4.5.5.64)\n",
      "Requirement already satisfied: matplotlib in c:\\users\\keven\\anaconda3\\envs\\dlav\\lib\\site-packages (3.5.1)\n",
      "Requirement already satisfied: astunparse~=1.6.3 in c:\\users\\keven\\anaconda3\\envs\\dlav\\lib\\site-packages (from tensorflow==2.5) (1.6.3)\n",
      "Requirement already satisfied: typing-extensions~=3.7.4 in c:\\users\\keven\\anaconda3\\envs\\dlav\\lib\\site-packages (from tensorflow==2.5) (3.7.4.3)\n",
      "Requirement already satisfied: termcolor~=1.1.0 in c:\\users\\keven\\anaconda3\\envs\\dlav\\lib\\site-packages (from tensorflow==2.5) (1.1.0)\n",
      "Requirement already satisfied: flatbuffers~=1.12.0 in c:\\users\\keven\\anaconda3\\envs\\dlav\\lib\\site-packages (from tensorflow==2.5) (1.12)\n",
      "Requirement already satisfied: wheel~=0.35 in c:\\users\\keven\\anaconda3\\envs\\dlav\\lib\\site-packages (from tensorflow==2.5) (0.37.1)\n",
      "Requirement already satisfied: h5py~=3.1.0 in c:\\users\\keven\\anaconda3\\envs\\dlav\\lib\\site-packages (from tensorflow==2.5) (3.1.0)\n",
      "Requirement already satisfied: keras-nightly~=2.5.0.dev in c:\\users\\keven\\anaconda3\\envs\\dlav\\lib\\site-packages (from tensorflow==2.5) (2.5.0.dev2021032900)\n",
      "Requirement already satisfied: gast==0.4.0 in c:\\users\\keven\\anaconda3\\envs\\dlav\\lib\\site-packages (from tensorflow==2.5) (0.4.0)\n",
      "Requirement already satisfied: wrapt~=1.12.1 in c:\\users\\keven\\anaconda3\\envs\\dlav\\lib\\site-packages (from tensorflow==2.5) (1.12.1)\n",
      "Requirement already satisfied: numpy~=1.19.2 in c:\\users\\keven\\anaconda3\\envs\\dlav\\lib\\site-packages (from tensorflow==2.5) (1.19.5)\n",
      "Requirement already satisfied: opt-einsum~=3.3.0 in c:\\users\\keven\\anaconda3\\envs\\dlav\\lib\\site-packages (from tensorflow==2.5) (3.3.0)\n",
      "Requirement already satisfied: grpcio~=1.34.0 in c:\\users\\keven\\anaconda3\\envs\\dlav\\lib\\site-packages (from tensorflow==2.5) (1.34.1)\n",
      "Requirement already satisfied: tensorboard~=2.5 in c:\\users\\keven\\anaconda3\\envs\\dlav\\lib\\site-packages (from tensorflow==2.5) (2.8.0)\n",
      "Requirement already satisfied: keras-preprocessing~=1.1.2 in c:\\users\\keven\\anaconda3\\envs\\dlav\\lib\\site-packages (from tensorflow==2.5) (1.1.2)\n",
      "Requirement already satisfied: absl-py~=0.10 in c:\\users\\keven\\anaconda3\\envs\\dlav\\lib\\site-packages (from tensorflow==2.5) (0.15.0)\n",
      "Requirement already satisfied: protobuf>=3.9.2 in c:\\users\\keven\\anaconda3\\envs\\dlav\\lib\\site-packages (from tensorflow==2.5) (3.20.0)\n",
      "Requirement already satisfied: google-pasta~=0.2 in c:\\users\\keven\\anaconda3\\envs\\dlav\\lib\\site-packages (from tensorflow==2.5) (0.2.0)\n",
      "Requirement already satisfied: tensorflow-estimator<2.6.0,>=2.5.0rc0 in c:\\users\\keven\\anaconda3\\envs\\dlav\\lib\\site-packages (from tensorflow==2.5) (2.5.0)\n",
      "Requirement already satisfied: six~=1.15.0 in c:\\users\\keven\\anaconda3\\envs\\dlav\\lib\\site-packages (from tensorflow==2.5) (1.15.0)\n",
      "Requirement already satisfied: python-dateutil>=2.7 in c:\\users\\keven\\anaconda3\\envs\\dlav\\lib\\site-packages (from matplotlib) (2.8.2)\n",
      "Requirement already satisfied: fonttools>=4.22.0 in c:\\users\\keven\\anaconda3\\envs\\dlav\\lib\\site-packages (from matplotlib) (4.31.2)\n",
      "Requirement already satisfied: packaging>=20.0 in c:\\users\\keven\\anaconda3\\envs\\dlav\\lib\\site-packages (from matplotlib) (21.3)\n",
      "Requirement already satisfied: pyparsing>=2.2.1 in c:\\users\\keven\\anaconda3\\envs\\dlav\\lib\\site-packages (from matplotlib) (3.0.7)\n",
      "Requirement already satisfied: kiwisolver>=1.0.1 in c:\\users\\keven\\anaconda3\\envs\\dlav\\lib\\site-packages (from matplotlib) (1.4.2)\n",
      "Requirement already satisfied: pillow>=6.2.0 in c:\\users\\keven\\anaconda3\\envs\\dlav\\lib\\site-packages (from matplotlib) (9.0.1)\n",
      "Requirement already satisfied: cycler>=0.10 in c:\\users\\keven\\anaconda3\\envs\\dlav\\lib\\site-packages (from matplotlib) (0.11.0)\n",
      "Requirement already satisfied: google-auth<3,>=1.6.3 in c:\\users\\keven\\anaconda3\\envs\\dlav\\lib\\site-packages (from tensorboard~=2.5->tensorflow==2.5) (2.6.6)\n",
      "Requirement already satisfied: tensorboard-plugin-wit>=1.6.0 in c:\\users\\keven\\anaconda3\\envs\\dlav\\lib\\site-packages (from tensorboard~=2.5->tensorflow==2.5) (1.8.1)\n",
      "Requirement already satisfied: werkzeug>=0.11.15 in c:\\users\\keven\\anaconda3\\envs\\dlav\\lib\\site-packages (from tensorboard~=2.5->tensorflow==2.5) (2.1.1)\n",
      "Requirement already satisfied: requests<3,>=2.21.0 in c:\\users\\keven\\anaconda3\\envs\\dlav\\lib\\site-packages (from tensorboard~=2.5->tensorflow==2.5) (2.27.1)\n",
      "Requirement already satisfied: google-auth-oauthlib<0.5,>=0.4.1 in c:\\users\\keven\\anaconda3\\envs\\dlav\\lib\\site-packages (from tensorboard~=2.5->tensorflow==2.5) (0.4.6)\n",
      "Requirement already satisfied: setuptools>=41.0.0 in c:\\users\\keven\\anaconda3\\envs\\dlav\\lib\\site-packages (from tensorboard~=2.5->tensorflow==2.5) (58.0.4)\n",
      "Requirement already satisfied: markdown>=2.6.8 in c:\\users\\keven\\anaconda3\\envs\\dlav\\lib\\site-packages (from tensorboard~=2.5->tensorflow==2.5) (3.3.6)\n",
      "Requirement already satisfied: tensorboard-data-server<0.7.0,>=0.6.0 in c:\\users\\keven\\anaconda3\\envs\\dlav\\lib\\site-packages (from tensorboard~=2.5->tensorflow==2.5) (0.6.1)\n",
      "Requirement already satisfied: cachetools<6.0,>=2.0.0 in c:\\users\\keven\\anaconda3\\envs\\dlav\\lib\\site-packages (from google-auth<3,>=1.6.3->tensorboard~=2.5->tensorflow==2.5) (5.0.0)\n",
      "Requirement already satisfied: pyasn1-modules>=0.2.1 in c:\\users\\keven\\anaconda3\\envs\\dlav\\lib\\site-packages (from google-auth<3,>=1.6.3->tensorboard~=2.5->tensorflow==2.5) (0.2.8)\n",
      "Requirement already satisfied: rsa<5,>=3.1.4 in c:\\users\\keven\\anaconda3\\envs\\dlav\\lib\\site-packages (from google-auth<3,>=1.6.3->tensorboard~=2.5->tensorflow==2.5) (4.8)\n",
      "Requirement already satisfied: requests-oauthlib>=0.7.0 in c:\\users\\keven\\anaconda3\\envs\\dlav\\lib\\site-packages (from google-auth-oauthlib<0.5,>=0.4.1->tensorboard~=2.5->tensorflow==2.5) (1.3.1)\n",
      "Requirement already satisfied: importlib-metadata>=4.4 in c:\\users\\keven\\anaconda3\\envs\\dlav\\lib\\site-packages (from markdown>=2.6.8->tensorboard~=2.5->tensorflow==2.5) (4.11.3)\n",
      "Requirement already satisfied: zipp>=0.5 in c:\\users\\keven\\anaconda3\\envs\\dlav\\lib\\site-packages (from importlib-metadata>=4.4->markdown>=2.6.8->tensorboard~=2.5->tensorflow==2.5) (3.8.0)\n",
      "Requirement already satisfied: pyasn1<0.5.0,>=0.4.6 in c:\\users\\keven\\anaconda3\\envs\\dlav\\lib\\site-packages (from pyasn1-modules>=0.2.1->google-auth<3,>=1.6.3->tensorboard~=2.5->tensorflow==2.5) (0.4.8)\n",
      "Requirement already satisfied: charset-normalizer~=2.0.0 in c:\\users\\keven\\anaconda3\\envs\\dlav\\lib\\site-packages (from requests<3,>=2.21.0->tensorboard~=2.5->tensorflow==2.5) (2.0.12)\n",
      "Requirement already satisfied: urllib3<1.27,>=1.21.1 in c:\\users\\keven\\anaconda3\\envs\\dlav\\lib\\site-packages (from requests<3,>=2.21.0->tensorboard~=2.5->tensorflow==2.5) (1.26.9)\n",
      "Requirement already satisfied: certifi>=2017.4.17 in c:\\users\\keven\\anaconda3\\envs\\dlav\\lib\\site-packages (from requests<3,>=2.21.0->tensorboard~=2.5->tensorflow==2.5) (2021.10.8)\n",
      "Requirement already satisfied: idna<4,>=2.5 in c:\\users\\keven\\anaconda3\\envs\\dlav\\lib\\site-packages (from requests<3,>=2.21.0->tensorboard~=2.5->tensorflow==2.5) (3.3)\n",
      "Requirement already satisfied: oauthlib>=3.0.0 in c:\\users\\keven\\anaconda3\\envs\\dlav\\lib\\site-packages (from requests-oauthlib>=0.7.0->google-auth-oauthlib<0.5,>=0.4.1->tensorboard~=2.5->tensorflow==2.5) (3.2.0)\n"
     ]
    }
   ],
   "source": [
    "!pip install tensorflow==2.5 opencv-python matplotlib"
   ]
  },
  {
   "cell_type": "code",
   "execution_count": 33,
   "metadata": {},
   "outputs": [],
   "source": [
    "import tensorflow as tf\n",
    "import numpy as np\n",
    "from matplotlib import pyplot as plt\n",
    "import cv2\n",
    "import math"
   ]
  },
  {
   "cell_type": "markdown",
   "metadata": {},
   "source": [
    "# 1. Load Model"
   ]
  },
  {
   "cell_type": "code",
   "execution_count": 2,
   "metadata": {},
   "outputs": [],
   "source": [
    "interpreter = tf.lite.Interpreter(model_path='C:\\DLAV_testing\\MoveNetLightning\\lite-model_movenet_singlepose_lightning_3.tflite')\n",
    "interpreter.allocate_tensors()"
   ]
  },
  {
   "cell_type": "markdown",
   "metadata": {},
   "source": [
    "# 2. Make Detections"
   ]
  },
  {
   "cell_type": "code",
   "execution_count": 6,
   "metadata": {},
   "outputs": [],
   "source": [
    "cap = cv2.VideoCapture(0)\n",
    "while cap.isOpened():\n",
    "    ret, frame = cap.read()\n",
    "    \n",
    "    # Reshape image\n",
    "    img = frame.copy()\n",
    "    img = tf.image.resize_with_pad(np.expand_dims(img, axis=0), 192,192)\n",
    "    input_image = tf.cast(img, dtype=tf.float32)\n",
    "    \n",
    "    # Setup input and output \n",
    "    input_details = interpreter.get_input_details()\n",
    "    output_details = interpreter.get_output_details()\n",
    "    \n",
    "    # Make predictions \n",
    "    interpreter.set_tensor(input_details[0]['index'], np.array(input_image))\n",
    "    interpreter.invoke()\n",
    "    keypoints_with_scores = interpreter.get_tensor(output_details[0]['index'])\n",
    "    \n",
    "    # Rendering \n",
    "    draw_connections(frame, keypoints_with_scores, EDGES, 0.2)\n",
    "    draw_keypoints(frame, keypoints_with_scores, 0.2)\n",
    "    \n",
    "    cv2.imshow('MoveNet Lightning', frame)\n",
    "    \n",
    "    if cv2.waitKey(10) & 0xFF==ord('q'):\n",
    "        break\n",
    "        \n",
    "cap.release()\n",
    "cv2.destroyAllWindows()"
   ]
  },
  {
   "cell_type": "markdown",
   "metadata": {},
   "source": [
    "# 3. Draw Keypoints"
   ]
  },
  {
   "cell_type": "code",
   "execution_count": 3,
   "metadata": {},
   "outputs": [],
   "source": [
    "def draw_keypoints(frame, keypoints, confidence_threshold):\n",
    "    y, x, c = frame.shape\n",
    "    shaped = np.squeeze(np.multiply(keypoints, [y,x,1]))\n",
    "    \n",
    "    for kp in shaped:\n",
    "        ky, kx, kp_conf = kp\n",
    "        if kp_conf > confidence_threshold:\n",
    "            cv2.circle(frame, (int(kx), int(ky)), 4, (0,255,0), -1) "
   ]
  },
  {
   "cell_type": "markdown",
   "metadata": {},
   "source": [
    "# 4. Draw Edges"
   ]
  },
  {
   "cell_type": "code",
   "execution_count": 4,
   "metadata": {},
   "outputs": [],
   "source": [
    "EDGES = {\n",
    "    (0, 1): 'm',\n",
    "    (0, 2): 'c',\n",
    "    (1, 3): 'm',\n",
    "    (2, 4): 'c',\n",
    "    (0, 5): 'm',\n",
    "    (0, 6): 'c',\n",
    "    (5, 7): 'm',\n",
    "    (7, 9): 'm',\n",
    "    (6, 8): 'c',\n",
    "    (8, 10): 'c',\n",
    "    (5, 6): 'y',\n",
    "    (5, 11): 'm',\n",
    "    (6, 12): 'c',\n",
    "    (11, 12): 'y',\n",
    "    (11, 13): 'm',\n",
    "    (13, 15): 'm',\n",
    "    (12, 14): 'c',\n",
    "    (14, 16): 'c'\n",
    "}"
   ]
  },
  {
   "cell_type": "code",
   "execution_count": 5,
   "metadata": {},
   "outputs": [],
   "source": [
    "def draw_connections(frame, keypoints, edges, confidence_threshold):\n",
    "    y, x, c = frame.shape\n",
    "    shaped = np.squeeze(np.multiply(keypoints, [y,x,1]))\n",
    "    \n",
    "    for edge, color in edges.items():\n",
    "        p1, p2 = edge\n",
    "        y1, x1, c1 = shaped[p1]\n",
    "        y2, x2, c2 = shaped[p2]\n",
    "        \n",
    "        if (c1 > confidence_threshold) & (c2 > confidence_threshold):      \n",
    "            cv2.line(frame, (int(x1), int(y1)), (int(x2), int(y2)), (0,0,255), 2)"
   ]
  },
  {
   "cell_type": "markdown",
   "metadata": {},
   "source": [
    "# 5. Make prediction on image"
   ]
  },
  {
   "cell_type": "code",
   "execution_count": 42,
   "metadata": {},
   "outputs": [],
   "source": [
    "img = cv2.imread(r'C:/DLAV_testing/images to test/test_angle.jpg')\n",
    "img1 = img.copy()\n",
    "\n",
    "img1 = tf.image.resize_with_pad(np.expand_dims(img1, axis=0), 192,192)\n",
    "input_image = tf.cast(img1, dtype=tf.float32)\n",
    "\n",
    "# Setup input and output \n",
    "input_details = interpreter.get_input_details()\n",
    "output_details = interpreter.get_output_details()\n",
    "\n",
    "# Make predictions \n",
    "interpreter.set_tensor(input_details[0]['index'], np.array(input_image))\n",
    "interpreter.invoke()\n",
    "keypoints_with_scores = interpreter.get_tensor(output_details[0]['index'])\n",
    "\n",
    "# Rendering \n",
    "draw_connections(img, keypoints_with_scores, EDGES, 0.1)\n",
    "draw_keypoints(img, keypoints_with_scores, 0.1)\n",
    "\n",
    "cv2.imshow('MoveNet Lightning', img)\n",
    "cv2.waitKey(0)\n",
    "cv2.destroyAllWindows()"
   ]
  },
  {
   "cell_type": "code",
   "execution_count": 9,
   "metadata": {},
   "outputs": [],
   "source": [
    "img = cv2.imread(r'C:/DLAV_testing/images to test/handsup_crowded.jpg')\n",
    "cv2.imshow('test',img)\n",
    "cv2.waitKey(0)\n",
    "cv2.destroyAllWindows()"
   ]
  },
  {
   "cell_type": "code",
   "execution_count": 37,
   "metadata": {},
   "outputs": [],
   "source": [
    "cap.release()"
   ]
  },
  {
   "cell_type": "markdown",
   "metadata": {},
   "source": [
    "# Pose Classification "
   ]
  },
  {
   "cell_type": "code",
   "execution_count": 9,
   "metadata": {},
   "outputs": [
    {
     "data": {
      "text/plain": [
       "(1, 1, 17, 3)"
      ]
     },
     "execution_count": 9,
     "metadata": {},
     "output_type": "execute_result"
    }
   ],
   "source": [
    "keypoints_with_scores.shape"
   ]
  },
  {
   "cell_type": "code",
   "execution_count": 28,
   "metadata": {},
   "outputs": [],
   "source": [
    "kp_array = keypoints_with_scores.reshape((17,3))[:,0:2]"
   ]
  },
  {
   "cell_type": "code",
   "execution_count": 71,
   "metadata": {},
   "outputs": [],
   "source": [
    "def calculateAngle(landmark1, landmark2, landmark3):\n",
    "    '''\n",
    "    This function calculates angle between three different landmarks.\n",
    "    Args:\n",
    "        landmark1: The first landmark containing the x,y and z coordinates.\n",
    "        landmark2: The second landmark containing the x,y and z coordinates.\n",
    "        landmark3: The third landmark containing the x,y and z coordinates.\n",
    "    Returns:\n",
    "        angle: The calculated angle between the three landmarks.\n",
    "\n",
    "    '''\n",
    "\n",
    "    # Get the required landmarks coordinates.\n",
    "    x1, y1 = landmark1\n",
    "    x2, y2 = landmark2\n",
    "    x3, y3 = landmark3\n",
    "\n",
    "    # Calculate the angle between the three points\n",
    "    angle = math.degrees(math.atan2(y3 - y2, x3 - x2) - math.atan2(y1 - y2, x1 - x2))\n",
    "    angle = np.abs(angle)\n",
    "    # Check if the angle is less than zero.\n",
    "    if angle > 180.0:\n",
    "\n",
    "        angle = 360-angle\n",
    "    \n",
    "    # Return the calculated angle.\n",
    "    return angle"
   ]
  },
  {
   "cell_type": "markdown",
   "metadata": {},
   "source": [
    "**Outputs**\n",
    "\n",
    "A float32 tensor of shape [1, 1, 17, 3].\n",
    "\n",
    "● The first two channels of the last dimension represents the yx coordinates (normalized to\n",
    "image frame, i.e. range in [0.0, 1.0]) of the 17 keypoints (in the order of: \n",
    "\n",
    "**[0: nose, 1: left eye, 2: right eye, 3: left ear, 4:_right ear, 5: left shoulder, 6: right shoulder, 7: left elbow, 8: right elbow, 9: left wrist, 10:right wrist, 11: left hip, 12: right hip, 13: left knee, 14: right knee, 15: left ankle, 16: right ankle]).**\n",
    "\n",
    "● The third channel of the last dimension represents the prediction confidence scores of\n",
    "each keypoint, also in the range [0.0, 1.0]."
   ]
  },
  {
   "cell_type": "code",
   "execution_count": 76,
   "metadata": {},
   "outputs": [],
   "source": [
    "def classifyPose(kp_array, output_image, display=False):\n",
    "    '''\n",
    "    This function classifies yoga poses depending upon the angles of various body joints.\n",
    "    Args:\n",
    "        kp_array: A list of detected landmarks of the person whose pose needs to be classified.\n",
    "        output_image: A image of the person with the detected pose landmarks drawn.\n",
    "        display: A boolean value that is if set to true the function displays the resultant image with the pose label \n",
    "        written on it and returns nothing.\n",
    "    Returns:\n",
    "        output_image: The image with the detected pose landmarks drawn and pose label written.\n",
    "        label: The classified pose label of the person in the output_image.\n",
    "\n",
    "    '''\n",
    "    \n",
    "    # Initialize the label of the pose. It is not known at this stage.\n",
    "    label = 'Unknown Pose'\n",
    "\n",
    "    # Specify the color (Red) with which the label will be written on the image.\n",
    "    color = (0, 0, 255)\n",
    "    \n",
    "    # Calculate the required angles.\n",
    "    #----------------------------------------------------------------------------------------------------------------\n",
    "    \n",
    "    # Get the angle between the left shoulder, elbow and wrist points. \n",
    "    left_elbow_angle = calculateAngle(kp_array[5],\n",
    "                                      kp_array[7],\n",
    "                                      kp_array[9])\n",
    "    \n",
    "\n",
    "    right_elbow_angle = calculateAngle(kp_array[6],\n",
    "                                       kp_array[8],\n",
    "                                       kp_array[10])\n",
    "\n",
    "    left_shoulder_angle = calculateAngle(kp_array[7],\n",
    "                                         kp_array[5],\n",
    "                                         kp_array[11])\n",
    "\n",
    "    right_shoulder_angle = calculateAngle(kp_array[12],\n",
    "                                          kp_array[6],\n",
    "                                          kp_array[8])\n",
    "    \n",
    "    #print('left_elbow_angle: ', left_elbow_angle ,'\\n right_elbow_angle: ', right_elbow_angle)\n",
    "    #print('left_shoulder_angle: ', left_shoulder_angle ,'\\n right_shoulder_angle: ', right_shoulder_angle)\n",
    "    \n",
    "    #----------------------------------------------------------------------------------------------------------------\n",
    "    \n",
    "    # Check if it is the warrior II pose or the T pose.\n",
    "    # As for both of them, both arms should be straight and shoulders should be at the specific angle.\n",
    "    #----------------------------------------------------------------------------------------------------------------\n",
    "    \n",
    "    # Check if the both arms are straight.\n",
    "    if left_elbow_angle > 125 and left_elbow_angle < 220 and right_elbow_angle > 125 and right_elbow_angle < 220:\n",
    "        #label = 'T Pose'\n",
    "        # Check if shoulders are at the required angle.\n",
    "        if left_shoulder_angle > 70 and left_shoulder_angle < 110 and right_shoulder_angle > 70 and right_shoulder_angle < 110:\n",
    "            label = 'T Pose'\n",
    "                        \n",
    "    \n",
    "    # Check if the pose is classified successfully\n",
    "    if label != 'Unknown Pose':\n",
    "        \n",
    "        # Update the color (to green) with which the label will be written on the image.\n",
    "        color = (0, 255, 0)  \n",
    "    \n",
    "    # Write the label on the output image. \n",
    "    cv2.putText(output_image, label, (10, 30),cv2.FONT_HERSHEY_PLAIN, 2, color, 2)\n",
    "    \n",
    "    # Check if the resultant image is specified to be displayed.\n",
    "    if display:\n",
    "    \n",
    "        # Display the resultant image.\n",
    "        plt.figure(figsize=[10,10])\n",
    "        plt.imshow(output_image[:,:,::-1]);plt.title(\"Output Image\");plt.axis('off');\n",
    "        \n",
    "    else:\n",
    "        \n",
    "        # Return the output image and the classified label.\n",
    "        return output_image, label"
   ]
  },
  {
   "cell_type": "markdown",
   "metadata": {},
   "source": [
    "## Pose Classification on Webcam"
   ]
  },
  {
   "cell_type": "code",
   "execution_count": 77,
   "metadata": {},
   "outputs": [],
   "source": [
    "cap = cv2.VideoCapture(0)\n",
    "while cap.isOpened():\n",
    "    ret, frame = cap.read()\n",
    "    if not ret:\n",
    "        continue\n",
    "        \n",
    "    # Reshape image\n",
    "    img = frame.copy()\n",
    "    img = tf.image.resize_with_pad(np.expand_dims(img, axis=0), 192,192)\n",
    "    input_image = tf.cast(img, dtype=tf.float32)\n",
    "    \n",
    "    # Setup input and output \n",
    "    input_details = interpreter.get_input_details()\n",
    "    output_details = interpreter.get_output_details()\n",
    "    \n",
    "    # Make predictions \n",
    "    interpreter.set_tensor(input_details[0]['index'], np.array(input_image))\n",
    "    interpreter.invoke()\n",
    "    keypoints_with_scores = interpreter.get_tensor(output_details[0]['index'])\n",
    "      \n",
    "    \n",
    "    # Rendering \n",
    "    draw_connections(frame, keypoints_with_scores, EDGES, 0.2)\n",
    "    draw_keypoints(frame, keypoints_with_scores, 0.2)\n",
    "    \n",
    "    #Classification\n",
    "    landmarks = keypoints_with_scores.reshape((17,3))[:,0:2]#array of landmarks (x,y)\n",
    "    \n",
    "    if np.size(landmarks) != 0:\n",
    "        frame, _ = classifyPose(landmarks, frame, display=False)\n",
    "    \n",
    "    \n",
    "    \n",
    "    cv2.imshow('MoveNet Lightning', frame)\n",
    "    \n",
    "    if cv2.waitKey(10) & 0xFF==ord('q'):\n",
    "        break\n",
    "        \n",
    "cap.release()\n",
    "cv2.destroyAllWindows()"
   ]
  }
 ],
 "metadata": {
  "kernelspec": {
   "display_name": "Python 3 (ipykernel)",
   "language": "python",
   "name": "python3"
  },
  "language_info": {
   "codemirror_mode": {
    "name": "ipython",
    "version": 3
   },
   "file_extension": ".py",
   "mimetype": "text/x-python",
   "name": "python",
   "nbconvert_exporter": "python",
   "pygments_lexer": "ipython3",
   "version": "3.8.13"
  }
 },
 "nbformat": 4,
 "nbformat_minor": 4
}
